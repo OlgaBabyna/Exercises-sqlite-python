{
  "nbformat": 4,
  "nbformat_minor": 0,
  "metadata": {
    "colab": {
      "provenance": [],
      "authorship_tag": "ABX9TyPqi/986x3n+rCC7abPW3VM",
      "include_colab_link": true
    },
    "kernelspec": {
      "name": "python3",
      "display_name": "Python 3"
    },
    "language_info": {
      "name": "python"
    }
  },
  "cells": [
    {
      "cell_type": "markdown",
      "metadata": {
        "id": "view-in-github",
        "colab_type": "text"
      },
      "source": [
        "<a href=\"https://colab.research.google.com/github/OlgaBabyna/Exercises-sqlite-python/blob/main/northwind.ipynb\" target=\"_parent\"><img src=\"https://colab.research.google.com/assets/colab-badge.svg\" alt=\"Open In Colab\"/></a>"
      ]
    },
    {
      "cell_type": "code",
      "execution_count": 2,
      "metadata": {
        "colab": {
          "base_uri": "https://localhost:8080/"
        },
        "id": "r_iw9xXsQqFZ",
        "outputId": "47cac38c-2fa2-4168-e427-82da476ac8bb"
      },
      "outputs": [
        {
          "output_type": "stream",
          "name": "stdout",
          "text": [
            "Mounted at /content/drive\n"
          ]
        }
      ],
      "source": [
        "from google.colab import drive\n",
        "drive.mount('/content/drive')"
      ]
    },
    {
      "cell_type": "markdown",
      "source": [
        "**Exercise 1**"
      ],
      "metadata": {
        "id": "K7XVaeI2UI1i"
      }
    },
    {
      "cell_type": "markdown",
      "source": [
        "Using the sqlite3 package connect to the northwind.db database. Then create a Cursor object and execute the following SQL query to the database:\n",
        "\n",
        "SELECT * FROM Category\n",
        "\n",
        "\n",
        "Using the appropriate method, print the first row from the above query to the console. Finally, close the database connection."
      ],
      "metadata": {
        "id": "L7qggwe9Uj_V"
      }
    },
    {
      "cell_type": "markdown",
      "source": [
        "**Solution 1**"
      ],
      "metadata": {
        "id": "sXlx5--2dzzW"
      }
    },
    {
      "cell_type": "code",
      "source": [
        "import sqlite3\n",
        "conn = sqlite3.connect('/content/drive/MyDrive/databases/northwind.db')\n",
        "cur = conn.cursor()\n",
        "cur.execute('''SELECT * FROM Category''')\n",
        "row = cur.fetchone()\n",
        "print(row)\n",
        "conn.close()\n"
      ],
      "metadata": {
        "colab": {
          "base_uri": "https://localhost:8080/"
        },
        "id": "kUkGiQZMRj9b",
        "outputId": "ab846d8f-ceb2-4674-a056-3169463b300b"
      },
      "execution_count": null,
      "outputs": [
        {
          "output_type": "stream",
          "name": "stdout",
          "text": [
            "(1, 'Beverages', 'Soft drinks, coffees, teas, beers, and ales')\n"
          ]
        }
      ]
    },
    {
      "cell_type": "markdown",
      "source": [
        "**Exercise 2**"
      ],
      "metadata": {
        "id": "RXeEv2RKV7uu"
      }
    },
    {
      "cell_type": "markdown",
      "source": [
        "Using the sqlite3 package connect to the northwind.db database. Then create a Cursor object and execute the following SQL query to the database:\n",
        "\n",
        "SELECT * FROM Category\n",
        "\n",
        "\n",
        "Using the Cursor.fetchone() method, assign the first two rows of the above query to the variables:\n",
        "\n",
        "first_row\n",
        "\n",
        "second_row\n",
        "\n",
        "Display the contents of the variables first_row and second_row to the console and close the database connection."
      ],
      "metadata": {
        "id": "pWf5w-ozWFHJ"
      }
    },
    {
      "cell_type": "markdown",
      "source": [
        "**Solution 2**"
      ],
      "metadata": {
        "id": "FBeSS7CReAJp"
      }
    },
    {
      "cell_type": "code",
      "source": [
        "import sqlite3\n",
        "conn = sqlite3.connect('/content/drive/MyDrive/databases/northwind.db')\n",
        "cur = conn.cursor()\n",
        "cur.execute('''SELECT * FROM Category''')\n",
        "first_row = cur.fetchone()\n",
        "second_row = cur.fetchone()\n",
        "print(first_row)\n",
        "print(second_row)\n",
        "conn.close()"
      ],
      "metadata": {
        "colab": {
          "base_uri": "https://localhost:8080/"
        },
        "id": "dIyu6PcDWVtv",
        "outputId": "56a17d81-a238-4595-900a-c293b88a2045"
      },
      "execution_count": null,
      "outputs": [
        {
          "output_type": "stream",
          "name": "stdout",
          "text": [
            "(1, 'Beverages', 'Soft drinks, coffees, teas, beers, and ales')\n",
            "(2, 'Condiments', 'Sweet and savory sauces, relishes, spreads, and seasonings')\n"
          ]
        }
      ]
    },
    {
      "cell_type": "markdown",
      "source": [
        "**Exercise 3**"
      ],
      "metadata": {
        "id": "HQ6joQ-WYFZP"
      }
    },
    {
      "cell_type": "markdown",
      "source": [
        "Using the sqlite3 package connect to the northwind.db database. Then create a Cursor object and execute the following SQL query to the database:\n",
        "\n",
        "SELECT * FROM Category\n",
        "\n",
        "\n",
        "Using the Cursor.fetchall() method, assign all rows returned by the above query to a variable:\n",
        "\n",
        "rows\n",
        "\n",
        "Display the contents of the variable rows to the console and close the database connection.\n",
        "\n"
      ],
      "metadata": {
        "id": "9rCyYLemYL0A"
      }
    },
    {
      "cell_type": "markdown",
      "source": [
        "**Solution 3**"
      ],
      "metadata": {
        "id": "diagZMMceG5E"
      }
    },
    {
      "cell_type": "code",
      "source": [
        "import sqlite3\n",
        "conn = sqlite3.connect('/content/drive/MyDrive/databases/northwind.db')\n",
        "cur = conn.cursor()\n",
        "cur.execute('''SELECT * FROM Category''')\n",
        "rows = cur.fetchall()\n",
        "print(rows)\n",
        "conn.close()"
      ],
      "metadata": {
        "colab": {
          "base_uri": "https://localhost:8080/"
        },
        "id": "uX37Uu49YtoA",
        "outputId": "af39f74a-4ca6-4dcd-95ea-0bae71be720d"
      },
      "execution_count": null,
      "outputs": [
        {
          "output_type": "stream",
          "name": "stdout",
          "text": [
            "[(1, 'Beverages', 'Soft drinks, coffees, teas, beers, and ales'), (2, 'Condiments', 'Sweet and savory sauces, relishes, spreads, and seasonings'), (3, 'Confections', 'Desserts, candies, and sweet breads'), (4, 'Dairy Products', 'Cheeses'), (5, 'Grains/Cereals', 'Breads, crackers, pasta, and cereal'), (6, 'Meat/Poultry', 'Prepared meats'), (7, 'Produce', 'Dried fruit and bean curd'), (8, 'Seafood', 'Seaweed and fish')]\n"
          ]
        }
      ]
    },
    {
      "cell_type": "markdown",
      "source": [
        "**Exercise 4**"
      ],
      "metadata": {
        "id": "u_6yIRlzaXN8"
      }
    },
    {
      "cell_type": "markdown",
      "source": [
        "Using a for loop, display each row returned by the above query to the console as shown in Exercise 3."
      ],
      "metadata": {
        "id": "ZpUcBjHJady9"
      }
    },
    {
      "cell_type": "markdown",
      "source": [
        "**Solution 4**"
      ],
      "metadata": {
        "id": "h52dAYyDeQK3"
      }
    },
    {
      "cell_type": "code",
      "source": [
        "import sqlite3\n",
        "conn = sqlite3.connect('/content/drive/MyDrive/databases/northwind.db')\n",
        "cur = conn.cursor()\n",
        "cur.execute('''SELECT * FROM Category''')\n",
        "rows = cur.fetchall()\n",
        "for c in rows:\n",
        "  print(c)\n",
        "conn.close()\n"
      ],
      "metadata": {
        "colab": {
          "base_uri": "https://localhost:8080/"
        },
        "id": "VYSR8cwla4qa",
        "outputId": "b4486569-efd6-4ca8-8791-08ed4f84c9ab"
      },
      "execution_count": null,
      "outputs": [
        {
          "output_type": "stream",
          "name": "stdout",
          "text": [
            "(1, 'Beverages', 'Soft drinks, coffees, teas, beers, and ales')\n",
            "(2, 'Condiments', 'Sweet and savory sauces, relishes, spreads, and seasonings')\n",
            "(3, 'Confections', 'Desserts, candies, and sweet breads')\n",
            "(4, 'Dairy Products', 'Cheeses')\n",
            "(5, 'Grains/Cereals', 'Breads, crackers, pasta, and cereal')\n",
            "(6, 'Meat/Poultry', 'Prepared meats')\n",
            "(7, 'Produce', 'Dried fruit and bean curd')\n",
            "(8, 'Seafood', 'Seaweed and fish')\n"
          ]
        }
      ]
    },
    {
      "cell_type": "markdown",
      "source": [
        "**Exercise 5**"
      ],
      "metadata": {
        "id": "pQ1knnldeaYe"
      }
    },
    {
      "cell_type": "markdown",
      "source": [
        "Modify the previous query to display only the category name (second column) to the console (use a for loop)."
      ],
      "metadata": {
        "id": "Cidkr5_yegrp"
      }
    },
    {
      "cell_type": "markdown",
      "source": [
        "**Solution 5**"
      ],
      "metadata": {
        "id": "-c3IeJZ9eXZy"
      }
    },
    {
      "cell_type": "code",
      "source": [
        "import sqlite3\n",
        "conn = sqlite3.connect('/content/drive/MyDrive/databases/northwind.db')\n",
        "cur = conn.cursor()\n",
        "cur.execute('''SELECT CategoryName FROM Category''')\n",
        "rows = cur.fetchall() \n",
        "for c in rows:\n",
        "  print(c)\n",
        "conn.close()\n",
        "\n",
        "\n"
      ],
      "metadata": {
        "colab": {
          "base_uri": "https://localhost:8080/"
        },
        "id": "t5vtIijsMmA7",
        "outputId": "9bf97cbd-9157-442c-e80e-b721cf4c9658"
      },
      "execution_count": 3,
      "outputs": [
        {
          "output_type": "stream",
          "name": "stdout",
          "text": [
            "('Beverages',)\n",
            "('Condiments',)\n",
            "('Confections',)\n",
            "('Dairy Products',)\n",
            "('Grains/Cereals',)\n",
            "('Meat/Poultry',)\n",
            "('Produce',)\n",
            "('Seafood',)\n"
          ]
        }
      ]
    },
    {
      "cell_type": "code",
      "source": [
        "from traitlets.utils import descriptions\n",
        "import sqlite3\n",
        "conn = sqlite3.connect('/content/drive/MyDrive/databases/northwind.db')\n",
        "cur = conn.cursor()\n",
        "cur.execute('''SELECT * FROM Category''')\n",
        "rows = cur.fetchall()\n",
        "for c in rows:\n",
        "  print (c[1])\n",
        "conn.close()\n",
        "\n"
      ],
      "metadata": {
        "colab": {
          "base_uri": "https://localhost:8080/"
        },
        "id": "bptDo4G5SLzc",
        "outputId": "885209fd-a0d8-4930-f165-8bf8ec30ca58"
      },
      "execution_count": 10,
      "outputs": [
        {
          "output_type": "stream",
          "name": "stdout",
          "text": [
            "Beverages\n",
            "Condiments\n",
            "Confections\n",
            "Dairy Products\n",
            "Grains/Cereals\n",
            "Meat/Poultry\n",
            "Produce\n",
            "Seafood\n"
          ]
        }
      ]
    },
    {
      "cell_type": "markdown",
      "source": [
        "**Exercise 6**"
      ],
      "metadata": {
        "id": "RlIfVsNHXZ6Y"
      }
    },
    {
      "cell_type": "markdown",
      "source": [
        "Using the sqlite3 package connect to the northwind.db database. Then create a Cursor object and execute the SQL query that returns the following columns:\n",
        "\n",
        "FirstName\n",
        "\n",
        "LastName\n",
        "\n",
        "Title\n",
        "\n",
        "City\n",
        "\n",
        "from the Employee table.\n",
        "\n",
        "Using a for loop, display each row returned by the created query to the console.\n",
        "\n"
      ],
      "metadata": {
        "id": "NZ7GRsA8XmPP"
      }
    },
    {
      "cell_type": "markdown",
      "source": [
        "**Solution 6**"
      ],
      "metadata": {
        "id": "Ak6e-uWned8d"
      }
    },
    {
      "cell_type": "code",
      "source": [
        "import sqlite3\n",
        "conn = sqlite3.connect('/content/drive/MyDrive/databases/northwind.db')\n",
        "cur = conn.cursor()\n",
        "cur.execute('''SELECT FirstName,LastName,Title,City FROM Employee''')\n",
        "rows = cur.fetchall()\n",
        "for c in rows:\n",
        "  print (c)\n",
        "conn.close()"
      ],
      "metadata": {
        "colab": {
          "base_uri": "https://localhost:8080/"
        },
        "id": "UGHl30dvX9K_",
        "outputId": "c368379f-baa5-4aff-a25d-3524d3a1e9c7"
      },
      "execution_count": 12,
      "outputs": [
        {
          "output_type": "stream",
          "name": "stdout",
          "text": [
            "('Nancy', 'Davolio', 'Sales Representative', 'Seattle')\n",
            "('Andrew', 'Fuller', 'Vice President, Sales', 'Tacoma')\n",
            "('Janet', 'Leverling', 'Sales Representative', 'Kirkland')\n",
            "('Margaret', 'Peacock', 'Sales Representative', 'Redmond')\n",
            "('Steven', 'Buchanan', 'Sales Manager', 'London')\n",
            "('Michael', 'Suyama', 'Sales Representative', 'London')\n",
            "('Robert', 'King', 'Sales Representative', 'London')\n",
            "('Laura', 'Callahan', 'Inside Sales Coordinator', 'Seattle')\n",
            "('Anne', 'Dodsworth', 'Sales Representative', 'London')\n"
          ]
        }
      ]
    },
    {
      "cell_type": "markdown",
      "source": [
        "**Exercise 7**"
      ],
      "metadata": {
        "id": "JqZCqe-HZjDn"
      }
    },
    {
      "cell_type": "markdown",
      "source": [
        "Using the sqlite3 package connect to the northwind.db database. Then create a Cursor object and execute the SQL query that returns the following columns:\n",
        "\n",
        "FirstName\n",
        "\n",
        "LastName\n",
        "\n",
        "Title\n",
        "\n",
        "City\n",
        "\n",
        "from the Employee table.\n",
        "\n",
        "Using the Cursor.fetchmany() method, retrieve the first three rows returned by the created query. In response, use a for loop to display each of these rows to the console.\n",
        "\n"
      ],
      "metadata": {
        "id": "fSjclbATZrDL"
      }
    },
    {
      "cell_type": "markdown",
      "source": [
        "**Solution 7**"
      ],
      "metadata": {
        "id": "SYPjsACEemjL"
      }
    },
    {
      "cell_type": "code",
      "source": [
        "import sqlite3\n",
        "conn = sqlite3.connect('/content/drive/MyDrive/databases/northwind.db')\n",
        "cur = conn.cursor()\n",
        "cur.execute('''SELECT FirstName,LastName,Title,City FROM Employee''')\n",
        "rows = cur.fetchmany(3)\n",
        "for c in rows:\n",
        "  print(c)\n",
        "conn.close()\n"
      ],
      "metadata": {
        "colab": {
          "base_uri": "https://localhost:8080/"
        },
        "id": "XEcioChWaHQh",
        "outputId": "c914b9a7-81cf-4b22-da1f-b1a5c9954d77"
      },
      "execution_count": 15,
      "outputs": [
        {
          "output_type": "stream",
          "name": "stdout",
          "text": [
            "('Nancy', 'Davolio', 'Sales Representative', 'Seattle')\n",
            "('Andrew', 'Fuller', 'Vice President, Sales', 'Tacoma')\n",
            "('Janet', 'Leverling', 'Sales Representative', 'Kirkland')\n"
          ]
        }
      ]
    }
  ]
}